{
 "cells": [
  {
   "cell_type": "markdown",
   "metadata": {},
   "source": [
    "# 1. Coursera - Getting Started with Python"
   ]
  },
  {
   "cell_type": "markdown",
   "metadata": {},
   "source": [
    "<b>Week 3. Assignment 2.1</b>\n",
    "\n",
    "Write a program that uses a print statement to say 'hello world' as shown in 'Desired Output'.\n",
    "\n",
    "<b>Desired Output:</b><br>\n",
    "hello world"
   ]
  },
  {
   "cell_type": "code",
   "execution_count": null,
   "metadata": {},
   "outputs": [],
   "source": [
    "# the code below almost works\n",
    "print(\"hello world\")"
   ]
  },
  {
   "cell_type": "markdown",
   "metadata": {},
   "source": [
    "<b>Week 4. Assignment 2.2</b>\n",
    "\n",
    "Write a program that uses input to prompt a user for their name and then welcomes them. Note that input will pop up a dialog box. Enter Sarah in the pop-up box when you are prompted so your output will match the desired output.\n",
    "\n",
    "<b>Desired Output:</b><br>\n",
    "Hello Sarah"
   ]
  },
  {
   "cell_type": "code",
   "execution_count": null,
   "metadata": {},
   "outputs": [],
   "source": [
    "# The code below almost works\n",
    "\n",
    "name = input(\"Enter your name \")\n",
    "print(\"Hello\", name)"
   ]
  },
  {
   "cell_type": "markdown",
   "metadata": {},
   "source": [
    "<b>Week 4. Assignment 2.3</b>\n",
    "\n",
    "Write a program to prompt the user for hours and rate per hour using input to compute gross pay. Use 35 hours and a rate of 2.75 per hour to test the program (the pay should be 96.25). You should use input to read a string and float() to convert the string to a number. Do not worry about error checking or bad user data.\n",
    "\n",
    "<b>Desired Output:</b><br>\n",
    "Pay: 96.25"
   ]
  },
  {
   "cell_type": "code",
   "execution_count": null,
   "metadata": {},
   "outputs": [],
   "source": [
    "# This first line is provided for you\n",
    "\n",
    "hrs = input(\"Enter Hours:\")\n",
    "rate = input(\"Enter the rate per hour: \")\n",
    "print(\"Pay:\",float(hrs)*float(rate))"
   ]
  },
  {
   "cell_type": "markdown",
   "metadata": {},
   "source": [
    "<b>Week 5. Assignment 3.1</b>\n",
    "\n",
    "Write a program to prompt the user for hours and rate per hour using input to compute gross pay. Pay the hourly rate for the hours up to 40 and 1.5 times the hourly rate for all hours worked above 40 hours. Use 45 hours and a rate of 10.50 per hour to test the program (the pay should be 498.75). You should use input to read a string and float() to convert the string to a number. Do not worry about error checking the user input - assume the user types numbers properly.\n",
    "\n",
    "<b>Desired Output:</b><br>\n",
    "498.75"
   ]
  },
  {
   "cell_type": "code",
   "execution_count": null,
   "metadata": {},
   "outputs": [],
   "source": [
    "hrs = input(\"Enter Hours:\")\n",
    "h = float(hrs)\n",
    "rate = input(\"rate per hour:\")\n",
    "r = float(rate)\n",
    "\n",
    "if h <= 40:\n",
    "    print(h*r)\n",
    "else:\n",
    "    print((40*r)+(h-40)*(r*1.5))"
   ]
  },
  {
   "cell_type": "markdown",
   "metadata": {},
   "source": [
    "<b>Week 5. Assignment 3.2</b>\n",
    "\n",
    "Use try and except to error checking - types literaly number."
   ]
  },
  {
   "cell_type": "code",
   "execution_count": null,
   "metadata": {},
   "outputs": [],
   "source": [
    "# Código modificado con try: except:\n",
    "hrs2 = input(\"Enter Hours:\")\n",
    "rate2 = input(\"rate per hour:\")\n",
    "\n",
    "error = 0\n",
    "try:\n",
    "    h2 = float(hrs2)\n",
    "    r2 = float(rate2)\n",
    "except:\n",
    "    print(\"Error, please enter numeric input\")\n",
    "    error = 1\n",
    "\n",
    "if error == 0:\n",
    "    if h2 <= 40:\n",
    "        print(h2*r2)\n",
    "    else:\n",
    "        print((40*r2)+(h2-40)*(r2*1.5))"
   ]
  },
  {
   "cell_type": "markdown",
   "metadata": {},
   "source": [
    "<b>Week 5. Assignment 3.3</b>\n",
    "\n",
    "Write a program to prompt for a score between 0.0 and 1.0. If the score is out of range, print an error. If the score is between 0.0 and 1.0, print a grade using the following table:\n",
    "Score Grade\n",
    ">= 0.9 A\\\n",
    ">= 0.8 B\\\n",
    ">= 0.7 C\\\n",
    ">= 0.6 D\\\n",
    "< 0.6 F\\\n",
    "If the user enters a value out of range, print a suitable error message and exit. For the test, enter a score of 0.85.\n",
    "\n",
    "<b>Desired Output:</b><br>\n",
    "B"
   ]
  },
  {
   "cell_type": "code",
   "execution_count": null,
   "metadata": {},
   "outputs": [],
   "source": [
    "score = input(\"Enter Score: \")\n",
    "s = float(score)\n",
    "\n",
    "if s > 0  and s < 0.6:\n",
    "    print(\"F\")\n",
    "elif s > 0  and s < 0.7:\n",
    "    print(\"D\")\n",
    "elif s > 0  and s < 0.8:\n",
    "    print(\"C\")\n",
    "elif s > 0  and s < 0.9:\n",
    "    print(\"B\")\n",
    "elif s > 0  and s <= 1:\n",
    "    print(\"A\")\n",
    "elif s < 0:\n",
    "    print(\"Error, is out of range!\")\n",
    "else:\n",
    "    print(\"Error, is out of range!\")"
   ]
  },
  {
   "cell_type": "markdown",
   "metadata": {},
   "source": [
    "<b>Week 6. Assignment 4.1</b>\n",
    "\n",
    "Run the program on your system and see what numbers you get. Run the program more than once and see what numbers you get."
   ]
  },
  {
   "cell_type": "code",
   "execution_count": null,
   "metadata": {},
   "outputs": [],
   "source": [
    "import random\n",
    "def aleatorio():\n",
    "    for i in range(10):\n",
    "        x = random.random()\n",
    "        print(x)"
   ]
  },
  {
   "cell_type": "code",
   "execution_count": null,
   "metadata": {},
   "outputs": [],
   "source": [
    "aleatorio()"
   ]
  },
  {
   "cell_type": "markdown",
   "metadata": {},
   "source": [
    "<b>Week 6. Assignment 4.2</b>\n",
    "\n",
    "This program (below) contains two function definitions: print_lyrics and repeat_lyrics. Function definitions get executed just like other statements, but the effect is to create function objects. The statements inside the function do not get executed until the function is called, and the function definition generates no output.\n",
    "\n",
    "As you might expect, you have to create a function before you can execute it. In other words, the function definition has to be executed before the first time it is called.\n",
    "\n",
    "Move the last line of this program to the top, so the function call appears before the definitions. Run the program and see what error message you get.\n",
    "\n",
    "<b>Desired Output:</b><br>\n",
    "Pay 498.75"
   ]
  },
  {
   "cell_type": "code",
   "execution_count": 12,
   "metadata": {},
   "outputs": [
    {
     "name": "stdout",
     "output_type": "stream",
     "text": [
      "I'm a lumberjack, and I'm okay.\n",
      "I sleep all night and I work all day.\n",
      "I'm a lumberjack, and I'm okay.\n",
      "I sleep all night and I work all day.\n"
     ]
    }
   ],
   "source": [
    "repeat_lyrics2()\n",
    "\n",
    "def print_lyrics():\n",
    "    print(\"I'm a lumberjack, and I'm okay.\")\n",
    "    print('I sleep all night and I work all day.')\n",
    "    \n",
    "def repeat_lyrics2():\n",
    "    print_lyrics()\n",
    "    print_lyrics()"
   ]
  },
  {
   "cell_type": "markdown",
   "metadata": {},
   "source": [
    "<b>Week 6. Assignment 4.3</b>\n",
    "\n",
    "Move the function call back to the bottom and move the definition of print_lyrics after the definition of repeat_lyrics. What happens when you run this program?\n",
    "\n",
    "<b>Desired Output:</b><br>\n",
    "Pay 498.75"
   ]
  },
  {
   "cell_type": "code",
   "execution_count": 6,
   "metadata": {},
   "outputs": [
    {
     "name": "stdout",
     "output_type": "stream",
     "text": [
      "I'm a lumberjack, and I'm okay.\n",
      "I sleep all night and I work all day.\n",
      "I'm a lumberjack, and I'm okay.\n",
      "I sleep all night and I work all day.\n"
     ]
    }
   ],
   "source": [
    "def repeat_lyrics3():\n",
    "    print_lyrics3()\n",
    "    print_lyrics3()\n",
    "\n",
    "def print_lyrics3():\n",
    "    print(\"I'm a lumberjack, and I'm okay.\")\n",
    "    print('I sleep all night and I work all day.')\n",
    "    \n",
    "repeat_lyrics3()"
   ]
  },
  {
   "cell_type": "markdown",
   "metadata": {},
   "source": [
    "<b>Week 6. Assignment 4.4</b>\n",
    "\n",
    "What is the purpose of the “def” keyword in Python?\n",
    "a) It is slang that means “the following code is really cool”\n",
    "b) It indicates the start of a function\n",
    "c) It indicates that the following indented section of code is to be stored for later\n",
    "d) b and c are both true\n",
    "e) None of the above"
   ]
  },
  {
   "cell_type": "code",
   "execution_count": 8,
   "metadata": {},
   "outputs": [
    {
     "name": "stdout",
     "output_type": "stream",
     "text": [
      "b) It indicates the start of a function\n"
     ]
    }
   ],
   "source": [
    "print(\"b) It indicates the start of a function\")"
   ]
  },
  {
   "cell_type": "markdown",
   "metadata": {},
   "source": [
    "<b>Week 6. Assignment 4.5</b>\n",
    "\n",
    "What will the following Python program print out?\n",
    "\n",
    "```python\n",
    "def fred():\n",
    "    print(\"Zap\", end=\"\")\n",
    "    \n",
    "def jane():\n",
    "    print(\"ABC\", end=\"\")\n",
    "\n",
    "jane()\n",
    "fred()\n",
    "jane()\n",
    "``` \n",
    "a) Zap ABC jane fred jane<br>\n",
    "b) Zap ABC Zap<br>\n",
    "c) ABC Zap jane<br>\n",
    "d) ABC Zap ABC<br>\n",
    "e) Zap Zap Zap<br>"
   ]
  },
  {
   "cell_type": "code",
   "execution_count": 10,
   "metadata": {},
   "outputs": [
    {
     "name": "stdout",
     "output_type": "stream",
     "text": [
      "d) ABC Zap ABC\n"
     ]
    }
   ],
   "source": [
    "print(\"d) ABC Zap ABC\")"
   ]
  },
  {
   "cell_type": "markdown",
   "metadata": {},
   "source": [
    "<b>Week 6. Assignment 4.6</b>\n",
    "\n",
    "Rewrite your pay computation with time-and-a-half for over-time and create a function called computepay which takes two parameters (hours and rate).\n",
    "\n",
    "Enter Hours: 45<br>\n",
    "Enter Rate: 10<br>\n",
    "Pay: 475.0<br>\n",
    "\n",
    "<b>Desired Output:</b><br>\n",
    "Pay 498.75"
   ]
  },
  {
   "cell_type": "code",
   "execution_count": 11,
   "metadata": {},
   "outputs": [
    {
     "name": "stdout",
     "output_type": "stream",
     "text": [
      "Enter Hours:45\n",
      "Enter Rate per Hour:10\n",
      "Pay 475.0\n"
     ]
    }
   ],
   "source": [
    "def computepay(h,r):\n",
    "    if h <= 40:\n",
    "        return h * r\n",
    "    else:\n",
    "        return (40*r)+((h-40)*(r*1.5))\n",
    "\n",
    "# Flag error if the enters values aren't digits\n",
    "error = 0\n",
    "\n",
    "# Input values\n",
    "hrs = input(\"Enter Hours:\")\n",
    "rate = input(\"Enter Rate per Hour:\")\n",
    "\n",
    "# Exception the numerics values\n",
    "try:\n",
    "    h = float(hrs)\n",
    "    r = float(rate)\n",
    "except:\n",
    "    print(\"Error, please enter numeric input\")\n",
    "    error = 1\n",
    "\n",
    "# Call computepay if that no has error\n",
    "if error == 0:\n",
    "    p = computepay(h,r)\n",
    "    print(\"Pay\",p)"
   ]
  },
  {
   "cell_type": "markdown",
   "metadata": {},
   "source": [
    "<b>Week 6. Assignment 4.7</b>\n",
    "\n",
    "Rewrite the grade program from the previous chapter using a function called computegrade that takes a score as its parameter and returns a grade as a string.\n",
    "\n",
    "Write a program to prompt for a score between 0.0 and 1.0. If the score is out of range, print an error. If the score is between 0.0 and 1.0, print a grade using the following table:\n",
    "Score Grade\n",
    ">= 0.9 A\\\n",
    ">= 0.8 B\\\n",
    ">= 0.7 C\\\n",
    ">= 0.6 D\\\n",
    "< 0.6 F\\\n",
    "If the user enters a value out of range, print a suitable error message and exit. For the test, enter a score of 0.85.\n",
    "\n",
    "<b>Desired Output:</b><br>\n",
    "B"
   ]
  },
  {
   "cell_type": "code",
   "execution_count": 15,
   "metadata": {},
   "outputs": [
    {
     "name": "stdout",
     "output_type": "stream",
     "text": [
      "Enter Score: df\n",
      "Error, ingrese un número\n"
     ]
    }
   ],
   "source": [
    "def computegrade(s):\n",
    "    if s > 0  and s < 0.6:\n",
    "        print(\"F\")\n",
    "    elif s > 0  and s < 0.7:\n",
    "        print(\"D\")\n",
    "    elif s > 0  and s < 0.8:\n",
    "        print(\"C\")\n",
    "    elif s > 0  and s < 0.9:\n",
    "        print(\"B\")\n",
    "    elif s > 0  and s <= 1:\n",
    "        print(\"A\")\n",
    "    elif s < 0:\n",
    "        print(\"Error, is out of range!\")\n",
    "    else:\n",
    "        print(\"Error, is out of range!\")\n",
    "\n",
    "try:\n",
    "    score = float(input(\"Enter Score: \"))\n",
    "except:\n",
    "    print(\"Error, ingrese un número\")\n",
    "else:\n",
    "    computegrade(score)"
   ]
  },
  {
   "cell_type": "code",
   "execution_count": 2,
   "metadata": {},
   "outputs": [
    {
     "name": "stdout",
     "output_type": "stream",
     "text": [
      "Input > Ok\n",
      "Ok\n",
      "Input > done\n",
      "Done!\n"
     ]
    }
   ],
   "source": [
    "while True:\n",
    "    line = input('Input > ')\n",
    "    if line == 'done':\n",
    "        break\n",
    "    print(line)\n",
    "print('Done!')\n"
   ]
  },
  {
   "cell_type": "code",
   "execution_count": 4,
   "metadata": {},
   "outputs": [
    {
     "name": "stdout",
     "output_type": "stream",
     "text": [
      "Input > #\n",
      "Input > #done\n",
      "Input > done#\n",
      "done#\n",
      "Input > #123\n",
      "Input > 1#23\n",
      "1#23\n",
      "Input > #ok\n",
      "Input > done\n",
      "Done!\n"
     ]
    }
   ],
   "source": [
    "while True:\n",
    "    line = input('Input > ')\n",
    "    if line[0] == '#':\n",
    "        continue\n",
    "    if line == 'done':\n",
    "        break\n",
    "    print(line)\n",
    "print('Done!')"
   ]
  },
  {
   "cell_type": "code",
   "execution_count": 8,
   "metadata": {},
   "outputs": [
    {
     "name": "stdout",
     "output_type": "stream",
     "text": [
      "5\n",
      "4\n",
      "3\n",
      "2\n",
      "1\n",
      "Brastoff\n"
     ]
    }
   ],
   "source": [
    "for i in range(5,0,-1):\n",
    "    print(i)\n",
    "print('Brastoff')"
   ]
  },
  {
   "cell_type": "code",
   "execution_count": 9,
   "metadata": {},
   "outputs": [
    {
     "name": "stdout",
     "output_type": "stream",
     "text": [
      "Happy New Year Joseph\n",
      "Happy New Year Glenn\n",
      "Happy New Year Sally\n",
      "Done!\n"
     ]
    }
   ],
   "source": [
    "friends = ['Joseph','Glenn','Sally']\n",
    "for friend in friends:\n",
    "    print('Happy New Year', friend)\n",
    "print('Done!')"
   ]
  },
  {
   "cell_type": "code",
   "execution_count": 10,
   "metadata": {},
   "outputs": [
    {
     "name": "stdout",
     "output_type": "stream",
     "text": [
      "Before\n",
      "9\n",
      "41\n",
      "12\n",
      "3\n",
      "74\n",
      "15\n",
      "After!\n"
     ]
    }
   ],
   "source": [
    "print('Before')\n",
    "for thing in [9,41,12,3,74,15]:\n",
    "    print(thing)\n",
    "print('After!')"
   ]
  },
  {
   "cell_type": "code",
   "execution_count": 11,
   "metadata": {},
   "outputs": [
    {
     "data": {
      "text/plain": [
       "74"
      ]
     },
     "execution_count": 11,
     "metadata": {},
     "output_type": "execute_result"
    }
   ],
   "source": [
    "a = [9,41,12,3,74,15]\n",
    "max(a)"
   ]
  },
  {
   "cell_type": "code",
   "execution_count": 12,
   "metadata": {},
   "outputs": [
    {
     "name": "stdout",
     "output_type": "stream",
     "text": [
      "Before 0 0\n",
      "1 9 9\n",
      "2 50 41\n",
      "3 62 12\n",
      "4 65 3\n",
      "5 139 74\n",
      "6 154 15\n",
      "After 6 154 25.666666666666668\n"
     ]
    }
   ],
   "source": [
    "count = 0\n",
    "sum = 0\n",
    "print('Before', count, sum)\n",
    "for value in [9,41,12,3,74,15]:\n",
    "    count = count + 1\n",
    "    sum = sum + value\n",
    "    print(count, sum, value)\n",
    "print('After', count, sum, sum/count)"
   ]
  },
  {
   "cell_type": "code",
   "execution_count": 13,
   "metadata": {},
   "outputs": [
    {
     "name": "stdout",
     "output_type": "stream",
     "text": [
      "Before\n",
      "9 9\n",
      "9 41\n",
      "9 12\n",
      "3 3\n",
      "3 73\n",
      "3 15\n",
      "After 3\n"
     ]
    }
   ],
   "source": [
    "smallest = None\n",
    "print('Before')\n",
    "for value in [9, 41, 12,3, 73, 15]:\n",
    "    if smallest is None:\n",
    "        smallest = value\n",
    "    elif value < smallest:\n",
    "        smallest = value\n",
    "    print(smallest, value)\n",
    "print('After', smallest)"
   ]
  },
  {
   "cell_type": "code",
   "execution_count": 14,
   "metadata": {},
   "outputs": [
    {
     "name": "stdout",
     "output_type": "stream",
     "text": [
      "Enter a number: hola\n",
      "Invalid input\n",
      "Enter a number: 3\n",
      "Enter a number: done\n",
      "3.0 1 3.0\n"
     ]
    }
   ],
   "source": [
    "num = 0 \n",
    "tot = 0.0\n",
    "while True:\n",
    "    sval = input('Enter a number: ')\n",
    "    if sval == 'done':\n",
    "        break\n",
    "    try:\n",
    "        fval = float(sval)\n",
    "    except:\n",
    "        print('Invalid input')\n",
    "        continue\n",
    "    # print(fval)\n",
    "    num += 1\n",
    "    tot = tot + fval\n",
    "\n",
    "# print('ALL DONE')\n",
    "print(tot, num, tot/num)\n",
    "    \n"
   ]
  },
  {
   "cell_type": "markdown",
   "metadata": {},
   "source": [
    "Week 7. Assignment 5.1\n",
    "\n",
    "Exercise 1: Write a program which repeatedly reads numbers until the user enters “done”. Once “done” is entered, print out the total, count, and average of the numbers. If the user enters anything other than a number, detect their mistake using try and except and print an error message and skip to the next number.\n",
    "\n",
    "Enter a number: 4\n",
    "Enter a number: 5\n",
    "Enter a number: bad data\n",
    "Invalid input\n",
    "Enter a number: 7\n",
    "Enter a number: done\n",
    "16 3 5.333333333333333"
   ]
  },
  {
   "cell_type": "code",
   "execution_count": 22,
   "metadata": {},
   "outputs": [
    {
     "name": "stdout",
     "output_type": "stream",
     "text": [
      "Enter a number: 4\n",
      "Enter a number: 5\n",
      "Enter a number: bad data\n",
      "Invalid input\n",
      "Enter a number: 7\n",
      "Enter a number: done\n",
      "16.0 3 5.333333333333333\n"
     ]
    }
   ],
   "source": [
    "s = 0\n",
    "c = 0\n",
    "while True:\n",
    "    n = input(\"Enter a number: \")\n",
    "    if n == \"done\":\n",
    "        break\n",
    "    else:\n",
    "        try:\n",
    "            num = float(n)\n",
    "        except:\n",
    "            print(\"Invalid input\")\n",
    "        else:\n",
    "            s = s + num\n",
    "            c = c + 1\n",
    "\n",
    "print(s, c, s/c)\n",
    "        "
   ]
  },
  {
   "cell_type": "markdown",
   "metadata": {},
   "source": [
    "<b>Week 7. Assignment 5.2</b>\n",
    "\n",
    "Write a program that repeatedly prompts a user for integer numbers until the user enters 'done'. Once 'done' is entered, print out the largest and smallest of the numbers. If the user enters anything other than a valid number catch it with a try/except and put out an appropriate message and ignore the number. Enter 7, 2, bob, 10, and 4 and match the output below.\n",
    "\n",
    "<b>Desired Output:</b><br>\n",
    "Invalid input\\\n",
    "Maximum is 10\\\n",
    "Minimum is 2"
   ]
  },
  {
   "cell_type": "code",
   "execution_count": 19,
   "metadata": {},
   "outputs": [
    {
     "name": "stdout",
     "output_type": "stream",
     "text": [
      "Enter a number: 4\n",
      "Enter a number: d\n",
      "Invalid input\n",
      "Enter a number: 3\n",
      "Enter a number: 6\n",
      "Enter a number: 1\n",
      "Enter a number: 90\n",
      "Enter a number: 4\n",
      "Enter a number: done\n",
      "Maximum is 90\n",
      "Minimum is 1\n"
     ]
    }
   ],
   "source": [
    "largest = None\n",
    "smallest = None\n",
    "while True:\n",
    "    num = input(\"Enter a number: \")\n",
    "    if num == \"done\":\n",
    "        break\n",
    "    try:\n",
    "        num = int(num)\n",
    "    except:\n",
    "        print(\"Invalid input\")\n",
    "        continue\n",
    "        \n",
    "    if smallest is None:\n",
    "        smallest = num\n",
    "    if largest is None:\n",
    "        largest = num\n",
    "        \n",
    "    if smallest > num:\n",
    "        smallest = num\n",
    "    if largest < num:\n",
    "        largest = num\n",
    "print(\"Maximum is\", largest)\n",
    "print(\"Minimum is\", smallest)"
   ]
  }
 ],
 "metadata": {
  "kernelspec": {
   "display_name": "Python 3",
   "language": "python",
   "name": "python3"
  },
  "language_info": {
   "codemirror_mode": {
    "name": "ipython",
    "version": 3
   },
   "file_extension": ".py",
   "mimetype": "text/x-python",
   "name": "python",
   "nbconvert_exporter": "python",
   "pygments_lexer": "ipython3",
   "version": "3.7.4"
  }
 },
 "nbformat": 4,
 "nbformat_minor": 2
}
